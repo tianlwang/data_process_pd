{
 "cells": [
  {
   "cell_type": "code",
   "execution_count": 39,
   "metadata": {},
   "outputs": [],
   "source": [
    "import os\n",
    "import pickle as pkl\n",
    "import pandas as pd\n",
    "import numpy as np\n",
    "pd.set_option('mode.chained_assignment',None)"
   ]
  },
  {
   "cell_type": "code",
   "execution_count": 40,
   "metadata": {},
   "outputs": [],
   "source": [
    "os.makedirs('out/mortality',exist_ok=True)"
   ]
  },
  {
   "cell_type": "code",
   "execution_count": 41,
   "metadata": {},
   "outputs": [],
   "source": [
    "df_all = pd.read_csv('out/checkpoints/df_all.csv')\n",
    "df_all['Date'] = pd.to_datetime(df_all['Date'])\n",
    "reversion = pkl.load(open('out/checkpoints/reversion.pkl', 'rb'))\n",
    "reversion_time = pkl.load(open('out/checkpoints/reversion_time.pkl', 'rb'))\n",
    "static_data = pkl.load(open('out/checkpoints/static_data.pkl', 'rb'))"
   ]
  },
  {
   "cell_type": "markdown",
   "metadata": {},
   "source": [
    "# Construct mortality risk prediction dataset\n",
    "- x: (N, T, D) list, N is the number of patients, T is the number of patient visits (time steps), D is the dimension of dynamic features\n",
    "- x_static: (N, 9) list, N is the number of patients, 9 is the dimension of static features\n",
    "- y: (N, T) list, N is the number of patients, T is the number of patient visits (time steps)\n",
    "- missing_mask: (N, T, D) list. Corresponding to x, recording which values are filled, `1`: existing, `0`: missing.\n",
    "- timestamp: (N, T) list, N is the number of patients, T is the number of patient visits (time steps), recording the visit timestamp of each patient (for privacy protection, the visit time of each patient starts from time 0)\n",
    "\n",
    "# pipeline\n",
    "- Generate dataframe subset of df_all according to the threshold, remove results with uncertain labels\n",
    "- Calculate data statistics\n",
    "- Z-score normalization\n",
    "- Perform missing value filling at the patient level and generate the dataset\n"
   ]
  },
  {
   "cell_type": "code",
   "execution_count": 42,
   "metadata": {},
   "outputs": [],
   "source": [
    "threshold = 365\n",
    "os.makedirs(f'out/mortality/threshold_{threshold}',exist_ok=True)"
   ]
  },
  {
   "cell_type": "code",
   "execution_count": 43,
   "metadata": {},
   "outputs": [],
   "source": [
    "# step1. Generate dataframe subset of df_all according to the threshold, remove results with uncertain labels\n",
    "cur_point = 0\n",
    "df_all_threshold = pd.DataFrame()\n",
    "for PDID, df_tmp in df_all.groupby('PDID'):\n",
    "    df_tmp.sort_values(by='Date', inplace=True)\n",
    "    tmp_reversion_time = reversion_time[PDID]\n",
    "    tmp_reversion = reversion[PDID]\n",
    "    if tmp_reversion == 0:\n",
    "        delta_t = tmp_reversion_time - df_tmp['Date']\n",
    "        delta_t = np.array([item.days for item in delta_t])\n",
    "        df_tmp = df_tmp[delta_t > threshold]\n",
    "    if len(df_tmp) != 0:\n",
    "        df_all_threshold = pd.concat([df_all_threshold, df_tmp], axis=0)\n",
    "df_all_threshold.to_csv(f'out/mortality/threshold_{threshold}/df_all_{threshold}.csv', encoding='utf_8_sig', index=False)\n",
    "\n"
   ]
  },
  {
   "cell_type": "code",
   "execution_count": 44,
   "metadata": {},
   "outputs": [],
   "source": [
    "# step2. Calculate data statistics\n",
    "feature_list = [col for col in df_all_threshold.columns if col not in ['PDID', 'Date']]\n",
    "statistics_info = df_all_threshold[feature_list].describe()\n",
    "statistics_info.to_csv(f'out/mortality/threshold_{threshold}/statistics_info.csv', encoding='utf_8_sig')"
   ]
  },
  {
   "cell_type": "code",
   "execution_count": 45,
   "metadata": {},
   "outputs": [],
   "source": [
    "# step3. Z-score normalization\n",
    "def zscore_normalization(df, columns, eps=1e-12):\n",
    "    mean = df[column].mean(skipna=True)  \n",
    "    std = df[column].std(skipna=True)\n",
    "    return (df[column] - mean) / ( std + eps) \n",
    "feature_list = [col for col in df_all_threshold.columns if col not in ['PDID', 'Date', 'Respiratory System', 'Peritoneal Dialysis-Related Complications', 'Cardiovascular System', 'Digestive System', 'Acute Upper Respiratory Tract Infection', 'Peritoneal Dialysis-Related Peritonitis']]\n",
    "for column in feature_list:\n",
    "    df_all_threshold[column] = zscore_normalization(df_all_threshold, column)\n",
    "df_all_threshold.to_csv(f'out/mortality/threshold_{threshold}/df_all_{threshold}_std.csv', encoding='utf_8_sig', index=False)"
   ]
  },
  {
   "cell_type": "code",
   "execution_count": 46,
   "metadata": {},
   "outputs": [],
   "source": [
    "# step4. Perform missing value filling at the patient level and generate the dataset\n",
    "feature_list = [col for col in df_all_threshold.columns if col not in ['PDID', 'Date']]\n",
    "df_median = df_all_threshold[feature_list].median()\n",
    "basetime = pd.to_datetime(pd.Series('1900-01-01'))[0]\n",
    "PDID2idx = {}\n",
    "x_list = []\n",
    "x_static_list = []\n",
    "y_list = []\n",
    "missing_mask_list = []\n",
    "timestamp_list = []\n",
    "\n",
    "for idx, (PDID, df_tmp) in enumerate(df_all_threshold.groupby('PDID')):\n",
    "    df_tmp.sort_values(by='Date', inplace=True)\n",
    "    tmp_reversion = reversion[PDID]\n",
    "    tmp_reversion_time = reversion_time[PDID]\n",
    "    tmp_y = []\n",
    "    tmp_timestamp = []\n",
    "\n",
    "    for i in range(len(df_tmp)):\n",
    "        cur_time = df_tmp.iloc[i]['Date']\n",
    "        delta_t = (tmp_reversion_time - cur_time).days\n",
    "        cur_timestamp = (df_tmp.iloc[i]['Date'] - basetime).days\n",
    "        # Patient ultimately dies: y is 1 within the death date threshold, 0 outside the threshold\n",
    "        # Patient ultimately survives: y is 0 (records with uncertain labels have been removed)\n",
    "        if tmp_reversion == 1:\n",
    "            if delta_t <= threshold:\n",
    "                tmp_y.append(1)\n",
    "            else:\n",
    "                tmp_y.append(0)\n",
    "        else:\n",
    "            tmp_y.append(0)\n",
    "        tmp_timestamp.append(cur_timestamp)\n",
    "\n",
    "    y_list.append(tmp_y)\n",
    "    timestamp_list.append([item - tmp_timestamp[0] for item in tmp_timestamp])  # Privacy protection\n",
    "\n",
    "    tmp_missing = df_tmp[feature_list].isnull()\n",
    "    tmp_missing = (tmp_missing == False).astype('uint8')\n",
    "    missing_mask_list.append(tmp_missing.values.tolist())\n",
    "\n",
    "    df_tmp = df_tmp.ffill()  # Forward fill\n",
    "    for col in feature_list:  # Then fill with median of the entire dataset\n",
    "        df_tmp[col] = df_tmp[col].fillna(df_median[col])\n",
    "    x_list.append(df_tmp[feature_list].values.tolist())\n",
    "\n",
    "    tmp_static = static_data[PDID]\n",
    "    x_static_list.append(tmp_static)\n",
    "    PDID2idx[PDID] = idx\n",
    "idx2PDID = {v: k for k, v in PDID2idx.items()}"
   ]
  },
  {
   "cell_type": "code",
   "execution_count": 47,
   "metadata": {},
   "outputs": [],
   "source": [
    "pkl.dump(x_list, open(os.path.join('out/mortality', f'threshold_{threshold}', 'x.pkl'), 'wb'))\n",
    "pkl.dump(x_static_list, open(os.path.join('out/mortality', f'threshold_{threshold}', 'x_static.pkl'), 'wb'))\n",
    "pkl.dump(y_list, open(os.path.join('out/mortality', f'threshold_{threshold}', 'y.pkl'), 'wb'))\n",
    "pkl.dump(missing_mask_list, open(os.path.join('out/mortality', f'threshold_{threshold}', 'missing_mask.pkl'), 'wb'))\n",
    "pkl.dump(timestamp_list, open(os.path.join('out/mortality', f'threshold_{threshold}', 'timestamp.pkl'), 'wb'))\n",
    "pkl.dump(PDID2idx, open(os.path.join('out/mortality', f'threshold_{threshold}', 'PDID2idx.pkl'), 'wb'))\n",
    "pkl.dump(idx2PDID, open(os.path.join('out/mortality', f'threshold_{threshold}', 'idx2PDID.pkl'), 'wb'))"
   ]
  }
 ],
 "metadata": {
  "kernelspec": {
   "display_name": "pd",
   "language": "python",
   "name": "python3"
  },
  "language_info": {
   "codemirror_mode": {
    "name": "ipython",
    "version": 3
   },
   "file_extension": ".py",
   "mimetype": "text/x-python",
   "name": "python",
   "nbconvert_exporter": "python",
   "pygments_lexer": "ipython3",
   "version": "3.8.17"
  }
 },
 "nbformat": 4,
 "nbformat_minor": 2
}
